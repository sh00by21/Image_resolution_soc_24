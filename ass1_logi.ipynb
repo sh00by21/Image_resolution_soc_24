{
 "cells": [
  {
   "cell_type": "code",
   "execution_count": 31,
   "id": "17feb1db-554d-45f6-9bb6-6ea0d5483647",
   "metadata": {},
   "outputs": [],
   "source": [
    "import pandas as pd\n",
    "import numpy as np\n",
    "import matplotlib.pyplot as plt\n",
    "from sklearn.model_selection import train_test_split\n",
    "from sklearn.linear_model import LogisticRegression\n",
    "from sklearn.metrics import accuracy_score, classification_report, roc_curve, roc_auc_score\n",
    "from sklearn.metrics import confusion_matrix\n",
    "\n",
    "# Load the dataset\n",
    "df = pd.read_csv('framingham.csv')  # Replace with your file path"
   ]
  },
  {
   "cell_type": "code",
   "execution_count": 32,
   "id": "b591652a-2d51-4144-b730-0924fa581cd9",
   "metadata": {},
   "outputs": [],
   "source": [
    "# Handle missing values if any\n",
    "df.dropna(inplace=True)  # Drop rows with missing values"
   ]
  },
  {
   "cell_type": "code",
   "execution_count": 33,
   "id": "2ffa64dc-2226-443a-a453-ff2cef869cf2",
   "metadata": {},
   "outputs": [],
   "source": [
    "# Feature Selection\n",
    "X = df[['male', 'age', 'education', 'currentSmoker', 'cigsPerDay', 'BPMeds', 'prevalentStroke', 'prevalentHyp', 'diabetes', 'totChol', 'sysBP', 'diaBP', 'BMI','heartRate','glucose']]\n",
    "y = df['TenYearCHD']\n",
    "\n",
    "# Data Splitting\n",
    "X_train, X_test, y_train, y_test = train_test_split(X, y, test_size=0.2, random_state=42)"
   ]
  },
  {
   "cell_type": "code",
   "execution_count": 34,
   "id": "0e574ea2-4f42-4178-9713-91928d41f34c",
   "metadata": {},
   "outputs": [],
   "source": [
    "# Model Training\n",
    "model = LogisticRegression(max_iter=1000)\n",
    "model.fit(X_train_scaled, y_train)\n",
    "\n",
    "# Set feature names to avoid UserWarning\n",
    "model.feature_names_in_ = list(X.columns)"
   ]
  },
  {
   "cell_type": "code",
   "execution_count": 35,
   "id": "5582a9b1-d575-4b82-8606-fe7d73e3727a",
   "metadata": {},
   "outputs": [
    {
     "name": "stdout",
     "output_type": "stream",
     "text": [
      "Accuracy: 0.16666666666666666\n",
      "              precision    recall  f1-score   support\n",
      "\n",
      "           0       1.00      0.00      0.00       610\n",
      "           1       0.17      1.00      0.29       122\n",
      "\n",
      "    accuracy                           0.17       732\n",
      "   macro avg       0.58      0.50      0.14       732\n",
      "weighted avg       0.86      0.17      0.05       732\n",
      "\n",
      "Percentage False Negatives: 0.0\n",
      "Percentage False Positives: 100.0\n"
     ]
    }
   ],
   "source": [
    "# Model Evaluation\n",
    "y_pred = model.predict(X_test)\n",
    "accuracy = accuracy_score(y_test, y_pred)\n",
    "print(\"Accuracy:\", accuracy)\n",
    "print(classification_report(y_test, y_pred, zero_division=1))\n",
    "\n",
    "\n",
    "# Calculate confusion matrix\n",
    "cm = confusion_matrix(y_test, y_pred)\n",
    "\n",
    "# Calculate false negatives and false positives\n",
    "false_negatives = cm[1, 0] / (cm[1, 0] + cm[1, 1]) * 100\n",
    "false_positives = cm[0, 1] / (cm[0, 0] + cm[0, 1]) * 100\n",
    "\n",
    "print(\"Percentage False Negatives:\", false_negatives)\n",
    "print(\"Percentage False Positives:\", false_positives)"
   ]
  }
 ],
 "metadata": {
  "kernelspec": {
   "display_name": "Python 3 (ipykernel)",
   "language": "python",
   "name": "python3"
  },
  "language_info": {
   "codemirror_mode": {
    "name": "ipython",
    "version": 3
   },
   "file_extension": ".py",
   "mimetype": "text/x-python",
   "name": "python",
   "nbconvert_exporter": "python",
   "pygments_lexer": "ipython3",
   "version": "3.11.7"
  }
 },
 "nbformat": 4,
 "nbformat_minor": 5
}
