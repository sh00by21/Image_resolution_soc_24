{
 "cells": [
  {
   "cell_type": "code",
   "execution_count": 4,
   "id": "2a7e0a72-6db3-4124-afd4-698c578392ae",
   "metadata": {},
   "outputs": [
    {
     "name": "stdout",
     "output_type": "stream",
     "text": [
      "Epoch 1/10\n",
      "\u001b[1m375/375\u001b[0m \u001b[32m━━━━━━━━━━━━━━━━━━━━\u001b[0m\u001b[37m\u001b[0m \u001b[1m31s\u001b[0m 80ms/step - accuracy: 0.8925 - loss: 0.3287 - val_accuracy: 0.9837 - val_loss: 0.0595\n",
      "Epoch 2/10\n",
      "\u001b[1m375/375\u001b[0m \u001b[32m━━━━━━━━━━━━━━━━━━━━\u001b[0m\u001b[37m\u001b[0m \u001b[1m32s\u001b[0m 85ms/step - accuracy: 0.9883 - loss: 0.0391 - val_accuracy: 0.9835 - val_loss: 0.0568\n",
      "Epoch 3/10\n",
      "\u001b[1m375/375\u001b[0m \u001b[32m━━━━━━━━━━━━━━━━━━━━\u001b[0m\u001b[37m\u001b[0m \u001b[1m33s\u001b[0m 88ms/step - accuracy: 0.9935 - loss: 0.0218 - val_accuracy: 0.9826 - val_loss: 0.0636\n",
      "Epoch 4/10\n",
      "\u001b[1m375/375\u001b[0m \u001b[32m━━━━━━━━━━━━━━━━━━━━\u001b[0m\u001b[37m\u001b[0m \u001b[1m32s\u001b[0m 85ms/step - accuracy: 0.9962 - loss: 0.0120 - val_accuracy: 0.9850 - val_loss: 0.0627\n",
      "Epoch 5/10\n",
      "\u001b[1m375/375\u001b[0m \u001b[32m━━━━━━━━━━━━━━━━━━━━\u001b[0m\u001b[37m\u001b[0m \u001b[1m37s\u001b[0m 99ms/step - accuracy: 0.9974 - loss: 0.0075 - val_accuracy: 0.9859 - val_loss: 0.0566\n",
      "Epoch 6/10\n",
      "\u001b[1m375/375\u001b[0m \u001b[32m━━━━━━━━━━━━━━━━━━━━\u001b[0m\u001b[37m\u001b[0m \u001b[1m34s\u001b[0m 91ms/step - accuracy: 0.9981 - loss: 0.0051 - val_accuracy: 0.9854 - val_loss: 0.0667\n",
      "Epoch 7/10\n",
      "\u001b[1m375/375\u001b[0m \u001b[32m━━━━━━━━━━━━━━━━━━━━\u001b[0m\u001b[37m\u001b[0m \u001b[1m33s\u001b[0m 88ms/step - accuracy: 0.9976 - loss: 0.0070 - val_accuracy: 0.9858 - val_loss: 0.0628\n",
      "Epoch 8/10\n",
      "\u001b[1m375/375\u001b[0m \u001b[32m━━━━━━━━━━━━━━━━━━━━\u001b[0m\u001b[37m\u001b[0m \u001b[1m35s\u001b[0m 92ms/step - accuracy: 0.9990 - loss: 0.0033 - val_accuracy: 0.9860 - val_loss: 0.0658\n",
      "Epoch 9/10\n",
      "\u001b[1m375/375\u001b[0m \u001b[32m━━━━━━━━━━━━━━━━━━━━\u001b[0m\u001b[37m\u001b[0m \u001b[1m32s\u001b[0m 84ms/step - accuracy: 0.9981 - loss: 0.0053 - val_accuracy: 0.9858 - val_loss: 0.0677\n",
      "Epoch 10/10\n",
      "\u001b[1m375/375\u001b[0m \u001b[32m━━━━━━━━━━━━━━━━━━━━\u001b[0m\u001b[37m\u001b[0m \u001b[1m32s\u001b[0m 85ms/step - accuracy: 0.9986 - loss: 0.0041 - val_accuracy: 0.9873 - val_loss: 0.0650\n"
     ]
    }
   ],
   "source": [
    "import tensorflow as tf\n",
    "from tensorflow.keras.models import Sequential\n",
    "from tensorflow.keras.layers import Input, Dense, Conv2D, Flatten\n",
    "from tensorflow.keras.datasets import mnist\n",
    "from tensorflow.keras.utils import to_categorical\n",
    "\n",
    "# Build and train the model\n",
    "def build_and_train_model(epochs=5):  # Added epochs parameter with default value\n",
    "    (train_images, train_labels), (test_images, test_labels) = mnist.load_data()\n",
    "    \n",
    "    train_images = train_images.reshape((60000, 28, 28, 1)).astype('float32') / 255\n",
    "    test_images = test_images.reshape((10000, 28, 28, 1)).astype('float32') / 255\n",
    "    \n",
    "    train_labels = to_categorical(train_labels)\n",
    "    test_labels = to_categorical(test_labels)\n",
    "    \n",
    "    model = Sequential()\n",
    "    model.add(Input(shape=(28, 28, 1)))  # Use Input layer here\n",
    "    model.add(Conv2D(32, kernel_size=(3, 3), activation='relu', input_shape=(28, 28, 1)))\n",
    "    model.add(Conv2D(64, kernel_size=(3, 3), activation='relu'))\n",
    "    model.add(Flatten())\n",
    "    model.add(Dense(128, activation='relu'))\n",
    "    model.add(Dense(10, activation='softmax'))\n",
    "    \n",
    "    model.compile(loss='categorical_crossentropy', optimizer='adam', metrics=['accuracy'])\n",
    "    \n",
    "    model.fit(train_images, train_labels, epochs=epochs, batch_size=128, validation_split=0.2)\n",
    "    \n",
    "    model.save('mnist_model.keras')\n",
    "    return model\n",
    "\n",
    "# Build and train the model with 10 epochs\n",
    "model = build_and_train_model(epochs=10)"
   ]
  },
  {
   "cell_type": "code",
   "execution_count": null,
   "id": "7c569643-4e77-4524-8cdd-2f34e6b5f143",
   "metadata": {},
   "outputs": [],
   "source": []
  }
 ],
 "metadata": {
  "kernelspec": {
   "display_name": "Python 3 (ipykernel)",
   "language": "python",
   "name": "python3"
  },
  "language_info": {
   "codemirror_mode": {
    "name": "ipython",
    "version": 3
   },
   "file_extension": ".py",
   "mimetype": "text/x-python",
   "name": "python",
   "nbconvert_exporter": "python",
   "pygments_lexer": "ipython3",
   "version": "3.11.7"
  }
 },
 "nbformat": 4,
 "nbformat_minor": 5
}
